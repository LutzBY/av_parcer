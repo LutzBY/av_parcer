{
 "cells": [
  {
   "cell_type": "code",
   "execution_count": 7,
   "metadata": {},
   "outputs": [],
   "source": [
    "import requests\n",
    "from urllib.parse import urlencode\n",
    "from bs4 import BeautifulSoup\n",
    "import datetime\n",
    "from datetime import datetime\n",
    "import time\n",
    "import json\n",
    "import requests\n",
    "from requests.exceptions import SSLError\n",
    "import psycopg2\n",
    "import random\n",
    "import csv\n",
    "from email.mime.text import MIMEText\n",
    "from email.utils import COMMASPACE\n",
    "import smtplib\n",
    "\n",
    "headers = {\n",
    "    'authority': 'moto.av.by',\n",
    "    'accept': 'text/html,application/xhtml+xml,application/xml;q=0.9,image/avif,image/webp,image/apng,*/*;q=0.8,application/signed-exchange;v=b3;q=0.7',\n",
    "    'accept-language': 'ru,en;q=0.9',\n",
    "    'cache-control': 'no-cache',\n",
    "    'pragma': 'no-cache',\n",
    "    'sec-ch-ua': '\"Not_A Brand\";v=\"8\", \"Chromium\";v=\"120\", \"YaBrowser\";v=\"24.1\", \"Yowser\";v=\"2.5\"',\n",
    "    'sec-ch-ua-mobile': '?0',\n",
    "    'sec-ch-ua-platform': '\"Windows\"',\n",
    "    'sec-fetch-dest': 'document',\n",
    "    'sec-fetch-mode': 'navigate',\n",
    "    'sec-fetch-site': 'same-origin',\n",
    "    'sec-fetch-user': '?1',\n",
    "    'upgrade-insecure-requests': '1',\n",
    "    'user-agent': 'Mozilla/5.0 (Windows NT 10.0; Win64; x64) AppleWebKit/537.36 (KHTML, like Gecko) Chrome/120.0.0.0 YaBrowser/24.1.0.0 Safari/537.36',\n",
    "}\n",
    "\n",
    "# Чтение json конфига\n",
    "with open('config.json') as file:\n",
    "    config = json.load(file)\n",
    "\n",
    "mail_login = config['sender login']\n",
    "mail_password = config['sender password']\n",
    "pgre_login = config['postgre login']\n",
    "pgre_password = config['postgre password']\n",
    "pgre_host = config['postgre host']\n",
    "pgre_port = config['postgre port']\n",
    "pgre_db = config['postgre database']\n",
    "recipients = config['mail recipients']\n",
    "\n",
    "#Подключение к postgres\n",
    "conn = psycopg2.connect(\n",
    "    host = pgre_host,\n",
    "    port = pgre_port,\n",
    "    database = pgre_db,\n",
    "    user = pgre_login,\n",
    "    password = pgre_password\n",
    ")"
   ]
  },
  {
   "cell_type": "code",
   "execution_count": 2,
   "metadata": {},
   "outputs": [],
   "source": [
    "import pandas as pd"
   ]
  },
  {
   "cell_type": "code",
   "execution_count": 3,
   "metadata": {},
   "outputs": [],
   "source": [
    "cursor = conn.cursor()"
   ]
  },
  {
   "cell_type": "code",
   "execution_count": 4,
   "metadata": {},
   "outputs": [],
   "source": [
    "# Чтение json конфига\n",
    "df = pd.read_csv('to_check_dates.csv')\n",
    "\n",
    "urls_to_check = df.iloc[:, 0].tolist()"
   ]
  },
  {
   "cell_type": "code",
   "execution_count": 6,
   "metadata": {},
   "outputs": [
    {
     "ename": "InFailedSqlTransaction",
     "evalue": "current transaction is aborted, commands ignored until end of transaction block\n",
     "output_type": "error",
     "traceback": [
      "\u001b[1;31m---------------------------------------------------------------------------\u001b[0m",
      "\u001b[1;31mInFailedSqlTransaction\u001b[0m                    Traceback (most recent call last)",
      "Cell \u001b[1;32mIn[6], line 9\u001b[0m\n\u001b[0;32m      5\u001b[0m     \u001b[38;5;66;03m# Вынять имеющуюся дату\u001b[39;00m\n\u001b[0;32m      6\u001b[0m     old_date_query \u001b[38;5;241m=\u001b[39m \u001b[38;5;124m\"\"\"\u001b[39m\n\u001b[0;32m      7\u001b[0m \u001b[38;5;124mselect date from av_full where id = \u001b[39m\u001b[38;5;132;01m%s\u001b[39;00m\u001b[38;5;124m \u001b[39m\n\u001b[0;32m      8\u001b[0m \u001b[38;5;124m\"\"\"\u001b[39m \u001b[38;5;241m%\u001b[39m (id_to_check)\n\u001b[1;32m----> 9\u001b[0m     \u001b[43mcursor\u001b[49m\u001b[38;5;241;43m.\u001b[39;49m\u001b[43mexecute\u001b[49m\u001b[43m(\u001b[49m\u001b[43mold_date_query\u001b[49m\u001b[43m)\u001b[49m\n\u001b[0;32m     10\u001b[0m     old_date_for_id \u001b[38;5;241m=\u001b[39m cursor\u001b[38;5;241m.\u001b[39mfetchone()\n\u001b[0;32m     12\u001b[0m     \u001b[38;5;28mprint\u001b[39m(\u001b[38;5;124mf\u001b[39m\u001b[38;5;124m'\u001b[39m\u001b[38;5;124mid - \u001b[39m\u001b[38;5;132;01m{\u001b[39;00mid_to_check\u001b[38;5;132;01m}\u001b[39;00m\u001b[38;5;124m, url - \u001b[39m\u001b[38;5;132;01m{\u001b[39;00murl_to_check\u001b[38;5;132;01m}\u001b[39;00m\u001b[38;5;124m'\u001b[39m, {old_date_for_id})\n",
      "\u001b[1;31mInFailedSqlTransaction\u001b[0m: current transaction is aborted, commands ignored until end of transaction block\n"
     ]
    }
   ],
   "source": [
    "for index, row in df.iterrows():\n",
    "    id_to_check = row['ID']\n",
    "    url_to_check = row['URL']\n",
    "\n",
    "    # Вынять имеющуюся дату\n",
    "    old_date_query = \"\"\"\n",
    "select date from av_full where id = %s \n",
    "\"\"\" % (id_to_check)\n",
    "    cursor.execute(old_date_query)\n",
    "    old_date_for_id = cursor.fetchone()\n",
    "\n",
    "    print(f'id - {id_to_check}, url - {url_to_check}', {old_date_for_id})\n",
    "\n",
    "    try:\n",
    "        response = requests.get(url_to_check, headers=headers)\n",
    "        # Дальнейшая обработка успешного запроса\n",
    "    except SSLError:\n",
    "        # Обработка ошибки SSL\n",
    "        print(f\"Произошла ошибка SSL при обращении к URL: {url_to_check}. Пропускаем выполнение для данного URL.\")\n",
    "    except requests.exceptions.ConnectionError as e:\n",
    "        print(\"Ошибка подключения:\", e)\n",
    "        continue\n",
    "    except Exception as e:\n",
    "        continue\n",
    "\n",
    "    src = response.text\n",
    "    soup = BeautifulSoup(src, 'lxml')\n",
    "\n",
    "    if response.status_code == 200:\n",
    "        src = response.text \n",
    "        soup = BeautifulSoup(src, 'lxml')\n",
    "        script_element = soup.find(\"script\", id=\"__NEXT_DATA__\") #Достаем жсон\n",
    "        json_string = script_element.string #Конвертируем жсон в стринг\n",
    "        data = json.loads(json_string) #Пакуем в data\n",
    "\n",
    "        try:\n",
    "            actual_date = data['props']['initialState']['advert']['advert']['publishedAt']\n",
    "            actual_date = datetime.strptime(actual_date, \"%Y-%m-%dT%H:%M:%S%z\")\n",
    "            actual_date = actual_date.strftime(\"'%Y-%m-%d %H:%M:%S'\") \n",
    "        except KeyError:\n",
    "            print(f'Не нашел даты для {id_to_check}, {url_to_check}')\n",
    "            continue\n",
    "        \n",
    "        if old_date_for_id != actual_date:\n",
    "            update_query = (\"UPDATE av_full SET date = %s WHERE id = %s\") % (actual_date, id_to_check) \n",
    "            cursor.execute(update_query)\n",
    "            conn.commit()\n",
    "                                \n",
    "            update_query = (\"UPDATE av_full SET date_corrected = %s WHERE id = %s\") % (old_date_for_id, id_to_check) \n",
    "            cursor.execute(update_query)\n",
    "            conn.commit()\n",
    "\n",
    "        else:\n",
    "            update_query = (\"UPDATE av_full SET date = %s WHERE id = %s\") % (actual_date, id_to_check) \n",
    "            cursor.execute(update_query)\n",
    "            conn.commit()\n",
    "\n",
    "        wait_amount = random.randint(4, 7)\n",
    "        time.sleep(wait_amount)\n",
    "    else:\n",
    "        print(f'Не смог открыть {id_to_check}, {url_to_check}')\n",
    "        continue"
   ]
  },
  {
   "cell_type": "code",
   "execution_count": null,
   "metadata": {},
   "outputs": [],
   "source": [
    "# Закрытие курсора и подключения    \n",
    "cursor.close()\n",
    "conn.close()"
   ]
  }
 ],
 "metadata": {
  "kernelspec": {
   "display_name": "Python 3",
   "language": "python",
   "name": "python3"
  },
  "language_info": {
   "codemirror_mode": {
    "name": "ipython",
    "version": 3
   },
   "file_extension": ".py",
   "mimetype": "text/x-python",
   "name": "python",
   "nbconvert_exporter": "python",
   "pygments_lexer": "ipython3",
   "version": "3.12.2"
  }
 },
 "nbformat": 4,
 "nbformat_minor": 2
}
