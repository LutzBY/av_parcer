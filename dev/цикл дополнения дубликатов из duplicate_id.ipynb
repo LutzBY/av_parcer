{
 "cells": [
  {
   "cell_type": "code",
   "execution_count": 1,
   "id": "6a42cb38",
   "metadata": {},
   "outputs": [
    {
     "name": "stderr",
     "output_type": "stream",
     "text": [
      "c:\\Users\\User\\AppData\\Local\\Programs\\Python\\Python312\\Lib\\site-packages\\fuzzywuzzy\\fuzz.py:11: UserWarning: Using slow pure-python SequenceMatcher. Install python-Levenshtein to remove this warning\n",
      "  warnings.warn('Using slow pure-python SequenceMatcher. Install python-Levenshtein to remove this warning')\n"
     ]
    }
   ],
   "source": [
    "import json\n",
    "from fuzzywuzzy import fuzz\n",
    "import psycopg2\n",
    "import pyperclip\n",
    "import tkinter as tk\n",
    "from tkinter import messagebox\n",
    "import sys"
   ]
  },
  {
   "cell_type": "code",
   "execution_count": 11,
   "id": "483cae3f",
   "metadata": {},
   "outputs": [],
   "source": [
    "# Чтение json конфига\n",
    "with open('config.json') as file:\n",
    "    config = json.load(file)\n",
    "\n",
    "pgre_login = config['postgre login']\n",
    "pgre_password = config['postgre password']\n",
    "pgre_host = config['postgre host']\n",
    "pgre_port = config['postgre port']\n",
    "pgre_db = config['postgre database']\n",
    "\n",
    "#Подключение к postgres\n",
    "conn = psycopg2.connect(\n",
    "    host = pgre_host,\n",
    "    port = pgre_port,\n",
    "    database = pgre_db,\n",
    "    user = pgre_login,\n",
    "    password = pgre_password\n",
    ")"
   ]
  },
  {
   "cell_type": "code",
   "execution_count": 12,
   "id": "b6066e0c",
   "metadata": {},
   "outputs": [],
   "source": [
    "dupl_id_list = (116711493)"
   ]
  },
  {
   "cell_type": "code",
   "execution_count": 26,
   "id": "27da7259",
   "metadata": {},
   "outputs": [],
   "source": [
    "dulp_cycle_cursor = conn.cursor()\n",
    "query = \"\"\"\n",
    "select id, duplicate_id\n",
    "from av_full\n",
    "where duplicate_id = %s\n",
    "\"\"\" % (dupl_id_list)\n",
    "dulp_cycle_cursor.execute(query)\n",
    "d_c_r = dulp_cycle_cursor.fetchall()"
   ]
  },
  {
   "cell_type": "code",
   "execution_count": 27,
   "id": "19d933af",
   "metadata": {},
   "outputs": [],
   "source": [
    "id_to_double_check = []\n",
    "for i in d_c_r:\n",
    "   id_to_double_check.append(i[0])"
   ]
  },
  {
   "cell_type": "code",
   "execution_count": 28,
   "id": "852d8263",
   "metadata": {},
   "outputs": [
    {
     "data": {
      "text/plain": [
       "[Decimal('114108454'),\n",
       " Decimal('107392622'),\n",
       " Decimal('108416353'),\n",
       " Decimal('109113459'),\n",
       " Decimal('109528932'),\n",
       " Decimal('114426235'),\n",
       " Decimal('112723332'),\n",
       " Decimal('110432351'),\n",
       " Decimal('114579056'),\n",
       " Decimal('115734647'),\n",
       " Decimal('110173767'),\n",
       " Decimal('111101772'),\n",
       " Decimal('113829991'),\n",
       " Decimal('113934875'),\n",
       " Decimal('109331244')]"
      ]
     },
     "execution_count": 28,
     "metadata": {},
     "output_type": "execute_result"
    }
   ],
   "source": [
    "id_to_double_check"
   ]
  }
 ],
 "metadata": {
  "kernelspec": {
   "display_name": "Python 3",
   "language": "python",
   "name": "python3"
  },
  "language_info": {
   "codemirror_mode": {
    "name": "ipython",
    "version": 3
   },
   "file_extension": ".py",
   "mimetype": "text/x-python",
   "name": "python",
   "nbconvert_exporter": "python",
   "pygments_lexer": "ipython3",
   "version": "3.12.2"
  }
 },
 "nbformat": 4,
 "nbformat_minor": 5
}
