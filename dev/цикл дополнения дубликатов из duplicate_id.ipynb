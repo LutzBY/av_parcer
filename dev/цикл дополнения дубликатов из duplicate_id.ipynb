{
 "cells": [
  {
   "cell_type": "code",
   "execution_count": 76,
   "id": "6a42cb38",
   "metadata": {},
   "outputs": [],
   "source": [
    "import json\n",
    "from fuzzywuzzy import fuzz\n",
    "import psycopg2\n",
    "import pyperclip\n",
    "import tkinter as tk\n",
    "from tkinter import messagebox\n",
    "import sys\n",
    "from decimal import Decimal"
   ]
  },
  {
   "cell_type": "code",
   "execution_count": 3,
   "id": "483cae3f",
   "metadata": {},
   "outputs": [],
   "source": [
    "# Чтение json конфига\n",
    "with open('config.json') as file:\n",
    "    config = json.load(file)\n",
    "\n",
    "pgre_login = config['postgre login']\n",
    "pgre_password = config['postgre password']\n",
    "pgre_host = config['postgre host']\n",
    "pgre_port = config['postgre port']\n",
    "pgre_db = config['postgre database']\n",
    "\n",
    "#Подключение к postgres\n",
    "conn = psycopg2.connect(\n",
    "    host = pgre_host,\n",
    "    port = pgre_port,\n",
    "    database = pgre_db,\n",
    "    user = pgre_login,\n",
    "    password = pgre_password\n",
    ")"
   ]
  },
  {
   "cell_type": "code",
   "execution_count": 65,
   "id": "b6066e0c",
   "metadata": {},
   "outputs": [],
   "source": [
    "dupl_id_list = (113741935)\n",
    "id_to_double_check = []"
   ]
  },
  {
   "cell_type": "code",
   "execution_count": 63,
   "id": "27da7259",
   "metadata": {},
   "outputs": [],
   "source": [
    "d_c_r_flag = True\n",
    "dupl_id_to_search = dupl_id_list\n",
    "\n",
    "while d_c_r_flag:\n",
    "    dupl_cycle_cursor = conn.cursor()\n",
    "    query = \"\"\"\n",
    "    select id, duplicate_id\n",
    "    from av_test\n",
    "    where duplicate_id = %s\n",
    "    \"\"\" % (dupl_id_to_search)\n",
    "    dupl_cycle_cursor.execute(query)\n",
    "    d_c_r = dupl_cycle_cursor.fetchall()\n",
    "    if d_c_r:\n",
    "        for i in d_c_r:\n",
    "            id_to_double_check.append(i[0])\n",
    "        dupl_id_to_search = id_to_double_check[-1]\n",
    "    else:\n",
    "        d_c_r_flag = False"
   ]
  },
  {
   "cell_type": "code",
   "execution_count": null,
   "id": "6fad75db",
   "metadata": {},
   "outputs": [],
   "source": [
    "search_id_list = []\n",
    "dupl_id_list = []\n",
    "id_to_add_list = []\n",
    "\n",
    "dupl_cycle_cursor = conn.cursor()\n",
    "query = \"\"\"\n",
    "select id, duplicate_id\n",
    "from av_test\n",
    "where duplicate_id = %s\n",
    "\"\"\" % (dupl_id_to_search)\n",
    "dupl_cycle_cursor.execute(query)\n",
    "d_c_r = dupl_cycle_cursor.fetchall()"
   ]
  },
  {
   "cell_type": "code",
   "execution_count": 66,
   "id": "63c5605c",
   "metadata": {},
   "outputs": [
    {
     "name": "stdout",
     "output_type": "stream",
     "text": [
      "Все дубликаты: {Decimal('113741928'), Decimal('113741929'), Decimal('113741930'), Decimal('113741931'), Decimal('113741933'), Decimal('113741934'), 113741935, Decimal('110423743')}\n"
     ]
    }
   ],
   "source": [
    "dupl_id_list = [113741935]  # Список с самым новым ID, для которого ищем дубликаты\n",
    "processed_ids = set()  # Храним уже обработанные ID\n",
    "all_duplicates = set(dupl_id_list)  # Храним все найденные дубликаты\n",
    "\n",
    "while dupl_id_list:\n",
    "    # Берем текущий ID для поиска\n",
    "    current_id = dupl_id_list.pop(0)\n",
    "    if current_id in processed_ids:\n",
    "        continue  # Пропускаем, если ID уже обработан\n",
    "\n",
    "    # Выполняем SQL-запрос для поиска всех объявлений, у которых duplicate_id = current_id\n",
    "    with conn.cursor() as cursor:\n",
    "        query = \"\"\"\n",
    "        SELECT id\n",
    "        FROM av_test\n",
    "        WHERE duplicate_id = %s\n",
    "        \"\"\"\n",
    "        cursor.execute(query, (current_id,))\n",
    "        results = cursor.fetchall()\n",
    "\n",
    "    # Добавляем найденные ID в список для последующей обработки\n",
    "    for row in results:\n",
    "        new_id = row[0]\n",
    "        if new_id not in processed_ids:  # Проверяем, чтобы не было повторов\n",
    "            dupl_id_list.append(new_id)\n",
    "            all_duplicates.add(new_id)\n",
    "\n",
    "    # Помечаем текущий ID как обработанный\n",
    "    processed_ids.add(current_id)\n",
    "\n",
    "# Результат\n",
    "print(\"Все дубликаты:\", all_duplicates)"
   ]
  },
  {
   "cell_type": "code",
   "execution_count": null,
   "id": "bd96a88a",
   "metadata": {},
   "outputs": [],
   "source": [
    "110423743, 113741928, 113741929, 113741930, 113741931, 113741933, 113741934, 113741935"
   ]
  },
  {
   "cell_type": "code",
   "execution_count": 77,
   "id": "9af07c6d",
   "metadata": {},
   "outputs": [],
   "source": [
    "def find_all_duplicates(initial_ids):\n",
    "    \"\"\"\n",
    "    Функция для поиска всех связанных дубликатов.\n",
    "    :param initial_ids: Список ID (dupl_id_list), с которых начинается поиск.\n",
    "    :return: Список всех связанных ID.\n",
    "    \"\"\"\n",
    "    dupl_id_list = list(initial_ids)  # Начальные ID для поиска\n",
    "    processed_ids = set()  # Храним уже обработанные ID\n",
    "    all_duplicates = set(dupl_id_list)  # Храним все найденные дубликаты\n",
    "\n",
    "    while dupl_id_list:\n",
    "        # Берем текущий ID для поиска\n",
    "        current_id = dupl_id_list.pop(0)\n",
    "        if current_id in processed_ids:\n",
    "            continue  # Пропускаем, если ID уже обработан\n",
    "\n",
    "        # Выполняем SQL-запрос для поиска всех объявлений, у которых duplicate_id = current_id\n",
    "        with conn.cursor() as cursor:\n",
    "            query = \"\"\"\n",
    "            SELECT id\n",
    "            FROM av_test\n",
    "            WHERE duplicate_id = %s\n",
    "            \"\"\"\n",
    "            cursor.execute(query, (current_id,))\n",
    "            results = cursor.fetchall()\n",
    "\n",
    "        # Добавляем найденные ID в список для последующей обработки\n",
    "        for row in results:\n",
    "            new_id = row[0]\n",
    "            if new_id not in processed_ids:  # Проверяем, чтобы не было повторов\n",
    "                dupl_id_list.append(new_id)\n",
    "                all_duplicates.add(new_id)\n",
    "\n",
    "        # Помечаем текущий ID как обработанный\n",
    "        processed_ids.add(current_id)\n",
    "    # Преобразуем множество all_duplicates в строку для SQL-запроса\n",
    "    duplicates_string = \", \".join([str(int(x)) if isinstance(x, Decimal) else str(x) for x in all_duplicates])\n",
    "\n",
    "    return duplicates_string"
   ]
  },
  {
   "cell_type": "code",
   "execution_count": 79,
   "id": "892f7768",
   "metadata": {},
   "outputs": [
    {
     "name": "stdout",
     "output_type": "stream",
     "text": [
      "7, 1, 4, 5, 3, 9\n"
     ]
    }
   ],
   "source": [
    "initial_ids = \"113741935\"\n",
    "abc = find_all_duplicates(initial_ids)\n",
    "print(abc)"
   ]
  },
  {
   "cell_type": "code",
   "execution_count": 67,
   "id": "74cea08f",
   "metadata": {},
   "outputs": [
    {
     "ename": "NameError",
     "evalue": "name 'Decimal' is not defined",
     "output_type": "error",
     "traceback": [
      "\u001b[1;31m---------------------------------------------------------------------------\u001b[0m",
      "\u001b[1;31mNameError\u001b[0m                                 Traceback (most recent call last)",
      "Cell \u001b[1;32mIn[67], line 45\u001b[0m\n\u001b[0;32m     42\u001b[0m result \u001b[38;5;241m=\u001b[39m find_all_duplicates(initial_ids)\n\u001b[0;32m     44\u001b[0m \u001b[38;5;66;03m# Убедимся, что нет объектов Decimal в списке\u001b[39;00m\n\u001b[1;32m---> 45\u001b[0m result \u001b[38;5;241m=\u001b[39m [\u001b[38;5;28mint\u001b[39m(x) \u001b[38;5;28;01mif\u001b[39;00m \u001b[38;5;28misinstance\u001b[39m(x, \u001b[43mDecimal\u001b[49m) \u001b[38;5;28;01melse\u001b[39;00m x \u001b[38;5;28;01mfor\u001b[39;00m x \u001b[38;5;129;01min\u001b[39;00m result]\n\u001b[0;32m     47\u001b[0m \u001b[38;5;28mprint\u001b[39m(\u001b[38;5;124m\"\u001b[39m\u001b[38;5;124mВсе дубликаты:\u001b[39m\u001b[38;5;124m\"\u001b[39m, result)\n",
      "\u001b[1;31mNameError\u001b[0m: name 'Decimal' is not defined"
     ]
    }
   ],
   "source": [
    "def find_all_duplicates(initial_ids):\n",
    "    \"\"\"\n",
    "    Функция для поиска всех связанных дубликатов.\n",
    "    :param initial_ids: Список ID (dupl_id_list), с которых начинается поиск.\n",
    "    :return: Список всех связанных ID.\n",
    "    \"\"\"\n",
    "    dupl_id_list = list(initial_ids)  # Начальные ID для поиска\n",
    "    processed_ids = set()  # Храним уже обработанные ID\n",
    "    all_duplicates = set(dupl_id_list)  # Храним все найденные дубликаты\n",
    "\n",
    "    while dupl_id_list:\n",
    "        # Берем текущий ID для поиска\n",
    "        current_id = dupl_id_list.pop(0)\n",
    "        if current_id in processed_ids:\n",
    "            continue  # Пропускаем, если ID уже обработан\n",
    "\n",
    "        # Выполняем SQL-запрос для поиска всех объявлений, у которых duplicate_id = current_id\n",
    "        with conn.cursor() as cursor:\n",
    "            query = \"\"\"\n",
    "            SELECT id\n",
    "            FROM av_test\n",
    "            WHERE duplicate_id = %s\n",
    "            \"\"\"\n",
    "            cursor.execute(query, (current_id,))\n",
    "            results = cursor.fetchall()\n",
    "\n",
    "        # Добавляем найденные ID в список для последующей обработки\n",
    "        for row in results:\n",
    "            new_id = row[0]\n",
    "            if new_id not in processed_ids:  # Проверяем, чтобы не было повторов\n",
    "                dupl_id_list.append(new_id)\n",
    "                all_duplicates.add(new_id)\n",
    "\n",
    "        # Помечаем текущий ID как обработанный\n",
    "        processed_ids.add(current_id)\n",
    "\n",
    "    # Преобразуем в список и возвращаем\n",
    "    return list(all_duplicates)\n",
    "\n",
    "# Пример использования\n",
    "initial_ids = [113741935, 113741934]\n",
    "result = find_all_duplicates(initial_ids)\n",
    "\n",
    "# Убедимся, что нет объектов Decimal в списке\n",
    "result = [int(x) if isinstance(x, Decimal) else x for x in result]\n",
    "\n",
    "print(\"Все дубликаты:\", result)"
   ]
  },
  {
   "cell_type": "code",
   "execution_count": 64,
   "id": "852d8263",
   "metadata": {},
   "outputs": [
    {
     "data": {
      "text/plain": [
       "[Decimal('113741933'),\n",
       " Decimal('113741934'),\n",
       " Decimal('113741933'),\n",
       " Decimal('113741934')]"
      ]
     },
     "execution_count": 64,
     "metadata": {},
     "output_type": "execute_result"
    }
   ],
   "source": [
    "id_to_double_check"
   ]
  }
 ],
 "metadata": {
  "kernelspec": {
   "display_name": "Python 3",
   "language": "python",
   "name": "python3"
  },
  "language_info": {
   "codemirror_mode": {
    "name": "ipython",
    "version": 3
   },
   "file_extension": ".py",
   "mimetype": "text/x-python",
   "name": "python",
   "nbconvert_exporter": "python",
   "pygments_lexer": "ipython3",
   "version": "3.12.2"
  }
 },
 "nbformat": 4,
 "nbformat_minor": 5
}
