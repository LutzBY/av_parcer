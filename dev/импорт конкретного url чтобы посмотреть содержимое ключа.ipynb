{
 "cells": [
  {
   "cell_type": "code",
   "execution_count": 1,
   "id": "406dd238",
   "metadata": {},
   "outputs": [],
   "source": [
    "import requests\n",
    "from urllib.parse import urlencode\n",
    "from bs4 import BeautifulSoup\n",
    "import json\n",
    "import pyperclip\n",
    "import psycopg2\n",
    "from requests.exceptions import ChunkedEncodingError, RequestException\n",
    "from collections import defaultdict"
   ]
  },
  {
   "cell_type": "code",
   "execution_count": 2,
   "id": "0f0240d3",
   "metadata": {},
   "outputs": [],
   "source": [
    "headers = {\n",
    "    'authority': 'moto.av.by',\n",
    "    'accept': 'text/html,application/xhtml+xml,application/xml;q=0.9,image/avif,image/webp,image/apng,*/*;q=0.8,application/signed-exchange;v=b3;q=0.7',\n",
    "    'accept-language': 'ru,en;q=0.9',\n",
    "    'cache-control': 'no-cache',\n",
    "    'pragma': 'no-cache',\n",
    "    'sec-ch-ua': '\"Not_A Brand\";v=\"8\", \"Chromium\";v=\"120\", \"YaBrowser\";v=\"24.1\", \"Yowser\";v=\"2.5\"',\n",
    "    'sec-ch-ua-mobile': '?0',\n",
    "    'sec-ch-ua-platform': '\"Windows\"',\n",
    "    'sec-fetch-dest': 'document',\n",
    "    'sec-fetch-mode': 'navigate',\n",
    "    'sec-fetch-site': 'same-origin',\n",
    "    'sec-fetch-user': '?1',\n",
    "    'upgrade-insecure-requests': '1',\n",
    "    'user-agent': 'Mozilla/5.0 (Windows NT 10.0; Win64; x64) AppleWebKit/537.36 (KHTML, like Gecko) Chrome/120.0.0.0 YaBrowser/24.1.0.0 Safari/537.36',\n",
    "}\n",
    "    # если теперь что-то будет не так, то попробовать requests.Session()\n",
    "    #подставить ключи если будет надо\n",
    "    #\"X-Api-Key\": \"-\",\n",
    "    #\"X-User-Group\": \"-\","
   ]
  },
  {
   "cell_type": "code",
   "execution_count": 12,
   "id": "a9a3c555",
   "metadata": {},
   "outputs": [],
   "source": [
    "# искомый урл\n",
    "url = 'https://moto.av.by/bike/victory/vegas/118836109'"
   ]
  },
  {
   "cell_type": "code",
   "execution_count": 13,
   "id": "f368d452",
   "metadata": {},
   "outputs": [],
   "source": [
    "# Получение json\n",
    "try:\n",
    "    response = requests.get(url, headers=headers)\n",
    "    # Дальнейшая обработка успешного запроса\n",
    "except SSLError:\n",
    "    # Обработка ошибки SSL\n",
    "    print(f\"Произошла ошибка SSL при обращении к URL: {url}. Пропускаем выполнение для данного URL.\")\n",
    "except requests.exceptions.ConnectionError as e:\n",
    "    print(\"Ошибка подключения:\", e)\n",
    "\n",
    "except Exception as e:\n",
    "    print(f\"Произошла ошибка при обработке id {id_value}: {e}\")\n",
    "    broken_link_count += 1\n",
    "\n",
    "src = response.text\n",
    "soup = BeautifulSoup(src, 'lxml')\n",
    "\n",
    "src = response.text \n",
    "soup = BeautifulSoup(src, 'lxml')\n",
    "script_element = soup.find(\"script\", id=\"__NEXT_DATA__\") #Достаем жсон\n",
    "json_string = script_element.string #Конвертируем жсон в стринг\n",
    "data = json.loads(json_string) #Пакуем в data"
   ]
  },
  {
   "cell_type": "code",
   "execution_count": 5,
   "id": "3bf7d7d8",
   "metadata": {},
   "outputs": [],
   "source": [
    "# скопировать тест json'а в буфер обмена\n",
    "pyperclip.copy(data)"
   ]
  },
  {
   "cell_type": "code",
   "execution_count": 14,
   "id": "29fb4ffa",
   "metadata": {},
   "outputs": [],
   "source": [
    "# Подключение к базе\n",
    "with open('config.json') as file:\n",
    "    config = json.load(file)\n",
    "\n",
    "mail_login = config['sender login']\n",
    "mail_password = config['sender password']\n",
    "pgre_login = config['postgre login']\n",
    "pgre_password = config['postgre password']\n",
    "pgre_host = config['postgre host']\n",
    "pgre_port = config['postgre port']\n",
    "pgre_db = config['postgre database']\n",
    "recipients = config['mail recipients']\n",
    "\n",
    "#Подключение к postgres\n",
    "conn = psycopg2.connect(\n",
    "    host = pgre_host,\n",
    "    port = pgre_port,\n",
    "    database = pgre_db,\n",
    "    user = pgre_login,\n",
    "    password = pgre_password\n",
    ")"
   ]
  },
  {
   "cell_type": "code",
   "execution_count": 15,
   "id": "904f37c2",
   "metadata": {},
   "outputs": [],
   "source": [
    "# получить переменные\n",
    "properties = data['props']['initialState']['advert']['advert']['properties']\n",
    "brand = next((prop['value'] for prop in properties if prop['name'] == 'brand'), None)\n",
    "model = next((prop['value'] for prop in properties if prop['name'] == 'model'), None) \n",
    "year  = next((prop['value'] for prop in properties if prop['name'] == 'year'), None)\n",
    "mtype  = next((prop['value'] for prop in properties if prop['name'] == 'purpose_type'), None)\n",
    "cylcount = next((prop['value'] for prop in properties if prop['name'] == 'cylinder_number'), None)\n",
    "capacity = next((prop['value'] for prop in properties if prop['name'] == 'engine_capacity'), None)\n",
    "seller = data['props']['initialState']['advert']['advert']['sellerName']\n",
    "location = data['props']['initialState']['advert']['advert']['locationName']\n",
    "mileage = next((prop['value'] for prop in properties if prop['name'] == 'mileage_km'), None)\n",
    "id = data['props']['initialState']['advert']['advert']['id']\n"
   ]
  },
  {
   "cell_type": "code",
   "execution_count": 16,
   "id": "3796aec2",
   "metadata": {},
   "outputs": [],
   "source": [
    "# Функция \"ручной\" проверки дубликатов\n",
    "def duplicates_manual_check(id, brand, model, year, mtype, cylcount, capacity, seller, location, mileage):\n",
    "    duplcursor = conn.cursor()\n",
    "    query = \"\"\"\n",
    "        SELECT id, url, duplicate_flag, duplicate_id\n",
    "        FROM public.av_full\n",
    "        WHERE brand = %(brand)s\n",
    "          AND model = %(model)s\n",
    "          AND year = %(year)s\n",
    "          AND type = %(type)s\n",
    "          AND cylinders = %(cylinders)s\n",
    "          AND capacity BETWEEN %(min_capacity)s AND %(max_capacity)s\n",
    "          AND LOWER(seller) = %(seller)s\n",
    "          AND locations = %(location)s\n",
    "          AND mileage BETWEEN %(min_mileage)s AND %(max_mileage)s\n",
    "        AND id != %(id)s\n",
    "        ORDER BY date ASC;\n",
    "    \"\"\"\n",
    "    params = {\n",
    "        'id': id,\n",
    "        'min_mileage': int(mileage) * 0.7,\n",
    "        'max_mileage': int(mileage) * 1.3,\n",
    "        'min_capacity': int(capacity) * 0.9,\n",
    "        'max_capacity': int(capacity) * 1.1,\n",
    "        'brand': brand, \n",
    "        'model': model,\n",
    "        'year': year,\n",
    "        'type': mtype,\n",
    "        'cylinders': cylcount,\n",
    "        'seller':seller.lower(),\n",
    "        'location': location\n",
    "    }\n",
    "    duplcursor.execute(query, params)\n",
    "    dmc_results = duplcursor.fetchall()\n",
    "\n",
    "    duplcursor.close()\n",
    "\n",
    "    return dmc_results"
   ]
  },
  {
   "cell_type": "code",
   "execution_count": 17,
   "id": "0a64e94a",
   "metadata": {},
   "outputs": [],
   "source": [
    "dmc_results = duplicates_manual_check(id, brand, model, year, mtype, cylcount, capacity, seller, location, mileage)"
   ]
  },
  {
   "cell_type": "code",
   "execution_count": 18,
   "id": "bda96ed5",
   "metadata": {},
   "outputs": [],
   "source": [
    "dmc_is_duplicate = []\n",
    "dmc_not_duplicate = []\n",
    "for i in dmc_results:\n",
    "    if i[2] is True:\n",
    "        dmc_is_duplicate.append(i)\n",
    "        \n",
    "    else:\n",
    "        dmc_not_duplicate.append(i)"
   ]
  },
  {
   "cell_type": "code",
   "execution_count": null,
   "id": "f6de1a3a",
   "metadata": {},
   "outputs": [],
   "source": [
    "#АКТУАЛЬНАЯ ВЕРСИЯ\n",
    "\n",
    "# Дополнение хтмл отчета строчкой про дубликаты если они есть\n",
    "if len(dmc_not_duplicate or dmc_is_duplicate) > 0:\n",
    "    duplicate_html_block = f\"\"\"<p style=\"text-align: center;\"><strong>Найдены дубликаты (<span style=\"color: #ff6600;\">вероятные</span> / <span style=\"color: #008000;\">старые</span>):</strong></p>\"\"\"\n",
    "    # Блок дубликатов которые duplicate = False\n",
    "    for idx, x in enumerate(dmc_not_duplicate):\n",
    "        m_d_id = x[0]\n",
    "        m_d_url = x[1]\n",
    "        duplicate_html_block += f\"\"\"<a href=\"{m_d_url}\" style=\"color: #ff6600;\">{m_d_id}</a>\"\"\"\n",
    "        # Добавляем запятую, если это не последний элемент из обоих списков\n",
    "        if idx != len(dmc_not_duplicate) - 1 or len(dmc_is_duplicate) > 0:\n",
    "            duplicate_html_block += \", \"\n",
    "\n",
    "    # Блок дубликатов которые duplicate = True\n",
    "    for idx, x in enumerate(dmc_is_duplicate):\n",
    "        m_d_id = x[0]\n",
    "        m_d_url = x[1]\n",
    "        m_d_dupl_id = x[3]\n",
    "        duplicate_html_block += f\"\"\"<a href=\"{m_d_url}\" style=\"color: #008000;\">{m_d_id}</a> ({m_d_dupl_id})\"\"\"\n",
    "        # Добавляем запятую, если это не последний элемент\n",
    "        if idx != len(dmc_is_duplicate) - 1:\n",
    "            duplicate_html_block += \", \""
   ]
  },
  {
   "cell_type": "code",
   "execution_count": null,
   "id": "178c65b6",
   "metadata": {},
   "outputs": [],
   "source": [
    "# Новая версия\n",
    "# Дополнение хтмл отчета строчкой про дубликаты если они есть\n",
    "if len(dmc_not_duplicate or dmc_is_duplicate) > 0:\n",
    "    duplicate_html_block = f\"\"\"<p style=\"text-align: center;\"><strong>Найдены дубликаты (<span style=\"color: #ff6600;\">вероятные</span> / <span style=\"color: #008000;\">старые</span>):</strong></p>\"\"\"\n",
    "    # Блок дубликатов которые duplicate = False\n",
    "    for idx, x in enumerate(dmc_not_duplicate):\n",
    "        m_d_id = x[0]\n",
    "        m_d_url = x[1]\n",
    "        duplicate_html_block += f\"\"\"<a href=\"{m_d_url}\" style=\"color: #ff6600;\">{m_d_id}</a>\"\"\"\n",
    "        # Добавляем запятую, если это не последний элемент из обоих списков\n",
    "        if idx != len(dmc_not_duplicate) - 1 or len(dmc_is_duplicate) > 0:\n",
    "            duplicate_html_block += \", \"\n",
    "\n",
    "\n",
    "# Блок дубликатов которые duplicate = True\n",
    "duplicates_grouped = defaultdict(list)\n",
    "for item in dmc_is_duplicate:\n",
    "    m_d_id = item[0]        # например, 107069185\n",
    "    m_d_url = item[1]       # ссылка\n",
    "    m_d_dupl_id = item[3]   # например, 109140984\n",
    "\n",
    "    # Добавляем ID как ссылку, но храним только ID для вывода\n",
    "    link = f'<a href=\"{m_d_url.strip()}\" style=\"color: #008000;\">{m_d_id}</a>'\n",
    "    duplicates_grouped[m_d_dupl_id].append(link)\n",
    "\n",
    "if duplicates_grouped:\n",
    "    for dupl_id, ids in duplicates_grouped.items():\n",
    "        duplicate_html_block += f\"<br>Для id {dupl_id}:<br>\"\n",
    "        duplicate_html_block += \", \".join(ids)\n",
    "else:\n",
    "    duplicate_html_block += \"не найдено.\""
   ]
  },
  {
   "cell_type": "code",
   "execution_count": 33,
   "id": "f2b116a9",
   "metadata": {},
   "outputs": [
    {
     "data": {
      "text/plain": [
       "'<p style=\"text-align: center;\"><strong>Найдены дубликаты (<span style=\"color: #ff6600;\">вероятные</span> / <span style=\"color: #008000;\">старые</span>):</strong>:</p><a href=\"https://moto.av.by/bike/victory/vegas/102220235\" style=\"color: #ff6600;\">102220235</a>, <a href=\"https://moto.av.by/bike/victory/vegas/102618014\" style=\"color: #ff6600;\">102618014</a>, <a href=\"https://moto.av.by/bike/victory/vegas/103361628\" style=\"color: #ff6600;\">103361628</a>, <a href=\"https://moto.av.by/bike/victory/vegas/103729884\" style=\"color: #ff6600;\">103729884</a>, <a href=\"https://moto.av.by/bike/victory/vegas/104161878\" style=\"color: #ff6600;\">104161878</a>, <a href=\"https://moto.av.by/bike/victory/vegas/104374203\" style=\"color: #ff6600;\">104374203</a>, <a href=\"https://moto.av.by/bike/victory/vegas/106853897\" style=\"color: #ff6600;\">106853897</a>, <a href=\"https://moto.av.by/bike/victory/vegas/108355823\" style=\"color: #ff6600;\">108355823</a>, <a href=\"https://moto.av.by/bike/victory/vegas/116772778\" style=\"color: #ff6600;\">116772778</a>, <br>Для id 118836109:<br><a href=\"https://moto.av.by/bike/victory/vegas/106859114\" style=\"color: #008000;\">106859114</a>, <a href=\"https://moto.av.by/bike/victory/vegas/108365574\" style=\"color: #008000;\">108365574</a>, <a href=\"https://moto.av.by/bike/victory/vegas/109649926\" style=\"color: #008000;\">109649926</a>, <a href=\"https://moto.av.by/bike/victory/vegas/113741864\" style=\"color: #008000;\">113741864</a><br>Для id 116772778:<br><a href=\"https://moto.av.by/bike/victory/vegas/109141520\" style=\"color: #008000;\">109141520</a>, <a href=\"https://moto.av.by/bike/victory/vegas/112861967\" style=\"color: #008000;\">112861967</a>, <a href=\"https://moto.av.by/bike/victory/vegas/113650978\" style=\"color: #008000;\">113650978</a>'"
      ]
     },
     "execution_count": 33,
     "metadata": {},
     "output_type": "execute_result"
    }
   ],
   "source": [
    "duplicate_html_block"
   ]
  },
  {
   "cell_type": "code",
   "execution_count": 31,
   "id": "c13bffd0",
   "metadata": {},
   "outputs": [],
   "source": [
    "duplicate_html_block = ''"
   ]
  },
  {
   "cell_type": "code",
   "execution_count": 35,
   "id": "a822c14c",
   "metadata": {},
   "outputs": [
    {
     "data": {
      "text/plain": [
       "[(Decimal('107069185'),\n",
       "  'https://moto.av.by/bike/honda/vt/107069185',\n",
       "  True,\n",
       "  Decimal('109140984')),\n",
       " (Decimal('112861938'),\n",
       "  'https://moto.av.by/bike/honda/vt/112861938',\n",
       "  True,\n",
       "  Decimal('109140984')),\n",
       " (Decimal('115369830'),\n",
       "  'https://moto.av.by/bike/honda/vt/115369830',\n",
       "  True,\n",
       "  Decimal('118836270'))]"
      ]
     },
     "execution_count": 35,
     "metadata": {},
     "output_type": "execute_result"
    }
   ],
   "source": [
    "dmc_is_duplicate"
   ]
  },
  {
   "cell_type": "code",
   "execution_count": 21,
   "id": "23c93c3b",
   "metadata": {},
   "outputs": [
    {
     "data": {
      "text/plain": [
       "[(Decimal('102269941'), 'https://moto.av.by/bike/honda/vt/102269941', False),\n",
       " (Decimal('102580148'), 'https://moto.av.by/bike/honda/vt/102580148', False),\n",
       " (Decimal('102596655'), 'https://moto.av.by/bike/honda/vt/102596655', False),\n",
       " (Decimal('102732121'), 'https://moto.av.by/bike/honda/vt/102732121', False),\n",
       " (Decimal('103056878'), 'https://moto.av.by/bike/honda/vt/103056878', False),\n",
       " (Decimal('103352837'), 'https://moto.av.by/bike/honda/vt/103352837', False),\n",
       " (Decimal('103352896'), 'https://moto.av.by/bike/honda/vt/103352896', False),\n",
       " (Decimal('103674120'), 'https://moto.av.by/bike/honda/vt/103674120', False),\n",
       " (Decimal('103674137'), 'https://moto.av.by/bike/honda/vt/103674137', False),\n",
       " (Decimal('104374174'), 'https://moto.av.by/bike/honda/vt/104374174', False),\n",
       " (Decimal('104607002'), 'https://moto.av.by/bike/honda/vt/104607002', False),\n",
       " (Decimal('109140984'), 'https://moto.av.by/bike/honda/vt/109140984', False),\n",
       " (Decimal('115962895'), 'https://moto.av.by/bike/honda/vt/115962895', False)]"
      ]
     },
     "execution_count": 21,
     "metadata": {},
     "output_type": "execute_result"
    }
   ],
   "source": [
    "dmc_not_duplicate"
   ]
  }
 ],
 "metadata": {
  "kernelspec": {
   "display_name": "Python 3",
   "language": "python",
   "name": "python3"
  },
  "language_info": {
   "codemirror_mode": {
    "name": "ipython",
    "version": 3
   },
   "file_extension": ".py",
   "mimetype": "text/x-python",
   "name": "python",
   "nbconvert_exporter": "python",
   "pygments_lexer": "ipython3",
   "version": "3.12.2"
  }
 },
 "nbformat": 4,
 "nbformat_minor": 5
}
