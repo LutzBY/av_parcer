{
 "cells": [
  {
   "cell_type": "code",
   "execution_count": 7,
   "id": "406dd238",
   "metadata": {},
   "outputs": [],
   "source": [
    "import requests\n",
    "from urllib.parse import urlencode\n",
    "from bs4 import BeautifulSoup\n",
    "import json\n",
    "import pyperclip"
   ]
  },
  {
   "cell_type": "code",
   "execution_count": 3,
   "id": "0f0240d3",
   "metadata": {},
   "outputs": [],
   "source": [
    "headers = {\n",
    "    'authority': 'moto.av.by',\n",
    "    'accept': 'text/html,application/xhtml+xml,application/xml;q=0.9,image/avif,image/webp,image/apng,*/*;q=0.8,application/signed-exchange;v=b3;q=0.7',\n",
    "    'accept-language': 'ru,en;q=0.9',\n",
    "    'cache-control': 'no-cache',\n",
    "    'pragma': 'no-cache',\n",
    "    'sec-ch-ua': '\"Not_A Brand\";v=\"8\", \"Chromium\";v=\"120\", \"YaBrowser\";v=\"24.1\", \"Yowser\";v=\"2.5\"',\n",
    "    'sec-ch-ua-mobile': '?0',\n",
    "    'sec-ch-ua-platform': '\"Windows\"',\n",
    "    'sec-fetch-dest': 'document',\n",
    "    'sec-fetch-mode': 'navigate',\n",
    "    'sec-fetch-site': 'same-origin',\n",
    "    'sec-fetch-user': '?1',\n",
    "    'upgrade-insecure-requests': '1',\n",
    "    'user-agent': 'Mozilla/5.0 (Windows NT 10.0; Win64; x64) AppleWebKit/537.36 (KHTML, like Gecko) Chrome/120.0.0.0 YaBrowser/24.1.0.0 Safari/537.36',\n",
    "}\n",
    "    # если теперь что-то будет не так, то попробовать requests.Session()\n",
    "    #подставить ключи если будет надо\n",
    "    #\"X-Api-Key\": \"-\",\n",
    "    #\"X-User-Group\": \"-\","
   ]
  },
  {
   "cell_type": "code",
   "execution_count": 43,
   "id": "a9a3c555",
   "metadata": {},
   "outputs": [],
   "source": [
    "# искомый урл\n",
    "url = 'https://moto.av.by/bike/triumph/street-triple/100364650'"
   ]
  },
  {
   "cell_type": "code",
   "execution_count": 44,
   "id": "f368d452",
   "metadata": {},
   "outputs": [],
   "source": [
    "try:\n",
    "    response = requests.get(url, headers=headers)\n",
    "    # Дальнейшая обработка успешного запроса\n",
    "except SSLError:\n",
    "    # Обработка ошибки SSL\n",
    "    print(f\"Произошла ошибка SSL при обращении к URL: {url}. Пропускаем выполнение для данного URL.\")\n",
    "except requests.exceptions.ConnectionError as e:\n",
    "    print(\"Ошибка подключения:\", e)\n",
    "\n",
    "except Exception as e:\n",
    "    print(f\"Произошла ошибка при обработке id {id_value}: {e}\")\n",
    "    broken_link_count += 1\n",
    "\n",
    "src = response.text\n",
    "soup = BeautifulSoup(src, 'lxml')\n",
    "\n",
    "src = response.text \n",
    "soup = BeautifulSoup(src, 'lxml')\n",
    "script_element = soup.find(\"script\", id=\"__NEXT_DATA__\") #Достаем жсон\n",
    "json_string = script_element.string #Конвертируем жсон в стринг\n",
    "data = json.loads(json_string) #Пакуем в data"
   ]
  },
  {
   "cell_type": "code",
   "execution_count": 32,
   "id": "3bf7d7d8",
   "metadata": {},
   "outputs": [],
   "source": [
    "# скопировать тест json'а в буфер обмена\n",
    "pyperclip.copy(data)"
   ]
  },
  {
   "cell_type": "code",
   "execution_count": null,
   "id": "51a453e8",
   "metadata": {},
   "outputs": [],
   "source": [
    "### далее шо там надо протестить:"
   ]
  },
  {
   "cell_type": "code",
   "execution_count": 45,
   "id": "85250788",
   "metadata": {},
   "outputs": [
    {
     "data": {
      "text/plain": [
       "'sold_avby'"
      ]
     },
     "execution_count": 45,
     "metadata": {},
     "output_type": "execute_result"
    }
   ],
   "source": [
    "# искомый ключ\n",
    "updated_status = data['props']['initialState']['advert']['advert']['removeReason']\n",
    "updated_status"
   ]
  },
  {
   "cell_type": "code",
   "execution_count": 26,
   "id": "1f8d3fb9",
   "metadata": {},
   "outputs": [
    {
     "data": {
      "text/plain": [
       "'Продано'"
      ]
     },
     "execution_count": 26,
     "metadata": {},
     "output_type": "execute_result"
    }
   ],
   "source": [
    "if updated_status == 'cancelled_sale':\n",
    "    updated_status = 'Удалено'\n",
    "elif updated_status == 'sold_avby':\n",
    "    updated_status = 'Продано'\n",
    "elif updated_status == 'sold_other_place':\n",
    "    updated_status = 'Продано'\n",
    "else:\n",
    "    updated_status = 'ПРОВЕРИТЬ'\n",
    "\n",
    "updated_status\n"
   ]
  }
 ],
 "metadata": {
  "kernelspec": {
   "display_name": "Python 3",
   "language": "python",
   "name": "python3"
  },
  "language_info": {
   "codemirror_mode": {
    "name": "ipython",
    "version": 3
   },
   "file_extension": ".py",
   "mimetype": "text/x-python",
   "name": "python",
   "nbconvert_exporter": "python",
   "pygments_lexer": "ipython3",
   "version": "3.12.2"
  }
 },
 "nbformat": 4,
 "nbformat_minor": 5
}
