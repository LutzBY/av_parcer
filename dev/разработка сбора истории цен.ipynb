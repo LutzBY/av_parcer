{
 "cells": [
  {
   "cell_type": "code",
   "execution_count": 3,
   "metadata": {},
   "outputs": [],
   "source": [
    "import requests\n",
    "from urllib.parse import urlencode\n",
    "from bs4 import BeautifulSoup\n",
    "import datetime\n",
    "from datetime import datetime\n",
    "import time\n",
    "import json\n",
    "import requests\n",
    "from requests.exceptions import SSLError\n",
    "import psycopg2\n",
    "import random\n",
    "import csv\n",
    "from email.mime.text import MIMEText\n",
    "from email.utils import COMMASPACE\n",
    "import smtplib\n",
    "\n",
    "headers = {\n",
    "    'authority': 'moto.av.by',\n",
    "    'accept': 'text/html,application/xhtml+xml,application/xml;q=0.9,image/avif,image/webp,image/apng,*/*;q=0.8,application/signed-exchange;v=b3;q=0.7',\n",
    "    'accept-language': 'ru,en;q=0.9',\n",
    "    'cache-control': 'no-cache',\n",
    "    'pragma': 'no-cache',\n",
    "    'sec-ch-ua': '\"Not_A Brand\";v=\"8\", \"Chromium\";v=\"120\", \"YaBrowser\";v=\"24.1\", \"Yowser\";v=\"2.5\"',\n",
    "    'sec-ch-ua-mobile': '?0',\n",
    "    'sec-ch-ua-platform': '\"Windows\"',\n",
    "    'sec-fetch-dest': 'document',\n",
    "    'sec-fetch-mode': 'navigate',\n",
    "    'sec-fetch-site': 'same-origin',\n",
    "    'sec-fetch-user': '?1',\n",
    "    'upgrade-insecure-requests': '1',\n",
    "    'user-agent': 'Mozilla/5.0 (Windows NT 10.0; Win64; x64) AppleWebKit/537.36 (KHTML, like Gecko) Chrome/120.0.0.0 YaBrowser/24.1.0.0 Safari/537.36',\n",
    "}\n",
    "    # если теперь что-то будет не так, то попробовать requests.Session()\n",
    "    #подставить ключи если будет надо\n",
    "    #\"X-Api-Key\": \"-\",\n",
    "    #\"X-User-Group\": \"-\",\n",
    "\n",
    "# Чтение json конфига\n",
    "with open('config.json') as file:\n",
    "    config = json.load(file)\n",
    "\n",
    "mail_login = config['sender login']\n",
    "mail_password = config['sender password']\n",
    "pgre_login = config['postgre login']\n",
    "pgre_password = config['postgre password']\n",
    "pgre_host = config['postgre host']\n",
    "pgre_port = config['postgre port']\n",
    "pgre_db = config['postgre database']\n",
    "recipients = config['mail recipients']\n",
    "\n",
    "# Чтение json исключений\n",
    "with open('exceptions.json', encoding=\"utf8\") as file:\n",
    "    exceptions_json = json.load(file)\n",
    "\n",
    "exclude_sellers = exceptions_json['exclude_sellers']\n",
    "exclude_brands = exceptions_json['exclude_brands']\n",
    "\n",
    "#Подключение к postgres\n",
    "conn = psycopg2.connect(\n",
    "    host = pgre_host,\n",
    "    port = pgre_port,\n",
    "    database = pgre_db,\n",
    "    user = pgre_login,\n",
    "    password = pgre_password\n",
    ")"
   ]
  },
  {
   "cell_type": "code",
   "execution_count": 19,
   "metadata": {},
   "outputs": [],
   "source": [
    "cursor = conn.cursor()"
   ]
  },
  {
   "cell_type": "code",
   "execution_count": 4,
   "metadata": {},
   "outputs": [],
   "source": [
    "# апи на курсы\n",
    "curr_api = \"https://api.nbrb.by/exrates/rates?periodicity=0\"\n",
    "response = requests.get(curr_api)\n",
    "curr_resp = response.json()\n",
    "curr_byn_usd = next((c['Cur_OfficialRate'] for c in curr_resp if c['Cur_Abbreviation'] == 'USD'), None)\n",
    "curr_byn_eur = next((c['Cur_OfficialRate'] for c in curr_resp if c['Cur_Abbreviation'] == 'EUR'), None)\n",
    "curr_eur_usd = curr_byn_eur / curr_byn_usd\n"
   ]
  },
  {
   "cell_type": "code",
   "execution_count": null,
   "metadata": {},
   "outputs": [],
   "source": [
    "115568095, 115254501, 115552403, 115371199"
   ]
  },
  {
   "cell_type": "code",
   "execution_count": 1,
   "metadata": {},
   "outputs": [],
   "source": [
    "id_value = 115254501"
   ]
  },
  {
   "cell_type": "code",
   "execution_count": 5,
   "metadata": {},
   "outputs": [],
   "source": [
    "# получения json истории по айди\n",
    "pr_history_url = f\"https://api.av.by/offers/{id_value}/price-history\" \n",
    "pr_h_response = requests.get(pr_history_url, headers=headers)\n",
    "\n",
    "\n"
   ]
  },
  {
   "cell_type": "code",
   "execution_count": null,
   "metadata": {},
   "outputs": [],
   "source": []
  },
  {
   "cell_type": "code",
   "execution_count": 7,
   "metadata": {},
   "outputs": [
    {
     "name": "stdout",
     "output_type": "stream",
     "text": [
      "для айди 115254501 - idu 115254501_2025-3-30_14-25-2. Цена на дату 2025-03-30 14:25:02 составила 11000 usd, в экв. 11000 usd\n",
      "для айди 115254501 - idu 115254501_2025-3-28_17-21-14. Цена на дату 2025-03-28 17:21:14 составила 8200 usd, в экв. 8200 usd\n",
      "для айди 115254501 - idu 115254501_2025-3-26_16-37-25. Цена на дату 2025-03-26 16:37:25 составила 8000 usd, в экв. 8000 usd\n",
      "для айди 115254501 - idu 115254501_2025-3-25_7-14-4. Цена на дату 2025-03-25 07:14:04 составила 8050 usd, в экв. 8050 usd\n",
      "для айди 115254501 - idu 115254501_2025-3-23_13-0-6. Цена на дату 2025-03-23 13:00:06 составила 8100 usd, в экв. 8100 usd\n",
      "для айди 115254501 - idu 115254501_2025-3-21_17-30-10. Цена на дату 2025-03-21 17:30:10 составила 8200 usd, в экв. 8200 usd\n"
     ]
    }
   ],
   "source": [
    "\n",
    "# Проверка успешности\n",
    "if pr_h_response.status_code == 200:\n",
    "    pr_h_data = pr_h_response.json()  # Получаем джсон\n",
    "    for i in pr_h_data:\n",
    "        pr_h_date = i['date']\n",
    "        pr_h_date = datetime.strptime(pr_h_date, '%Y-%m-%dT%H:%M:%S%z') # Преобразования текстового значения в дату\n",
    "        pr_h_date = pr_h_date.replace(tzinfo=None) # убираем таймзон\n",
    "        pr_h_currency = i['currency']\n",
    "        pr_h_amount = i['amount']\n",
    "        pr_h_idu = f'{id_value}_{pr_h_date.year}-{pr_h_date.month}-{pr_h_date.day}_{pr_h_date.hour}-{pr_h_date.minute}-{pr_h_date.second}'\n",
    "        if pr_h_currency == 'byn':\n",
    "            pr_h_usd_eq = int(round(pr_h_amount / curr_byn_usd, 0))\n",
    "        elif pr_h_currency == 'eur':\n",
    "            pr_h_usd_eq = int(round(pr_h_amount * curr_eur_usd, 0))\n",
    "        else:\n",
    "            pr_h_usd_eq = pr_h_amount\n",
    "        # пишем каждую строку а в конце коммит\n",
    "        print(f'для айди {id_value} - idu {pr_h_idu}. Цена на дату {pr_h_date} составила {pr_h_amount} {pr_h_currency}, в экв. {pr_h_usd_eq} usd')\n",
    "\n",
    "        "
   ]
  },
  {
   "cell_type": "code",
   "execution_count": 21,
   "metadata": {},
   "outputs": [],
   "source": [
    "        # пишем\n",
    "        pr_h_query = \"\"\"\n",
    "        INSERT INTO av_price_history (id, id_av, date, amount, currency, usd_eq)\n",
    "        VALUES (%s, %s, %s, %s, %s, %s)\n",
    "        ON CONFLICT (id) DO NOTHING\n",
    "        \"\"\"\n",
    "        cursor.execute(pr_h_query, (pr_h_idu, id_value, pr_h_date, pr_h_amount, pr_h_currency, pr_h_usd_eq))\n",
    "        conn.commit()"
   ]
  },
  {
   "cell_type": "code",
   "execution_count": null,
   "metadata": {},
   "outputs": [],
   "source": [
    "# Функция получения и записи истории изменения цен\n",
    "def get_price_history (id_value, curr_byn_usd, curr_eur_usd):\n",
    "    # получения json истории по айди\n",
    "    pr_history_url = f\"https://api.av.by/offers/{id_value}/price-history\" \n",
    "    pr_h_response = requests.get(pr_history_url, headers=headers)\n",
    "\n",
    "    # Проверка успешности\n",
    "    if pr_h_response.status_code == 200:\n",
    "        pr_h_data = pr_h_response.json()  # Получаем джсон\n",
    "        for i in pr_h_data:\n",
    "            pr_h_date = i['date']\n",
    "            pr_h_date = datetime.strptime(pr_h_date, '%Y-%m-%dT%H:%M:%S%z') # Преобразования текстового значения в дату\n",
    "            pr_h_date = pr_h_date.replace(tzinfo=None) # убираем таймзон\n",
    "            pr_h_currency = i['currency']\n",
    "            pr_h_amount = i['amount']\n",
    "            pr_h_idu = f'{id_value}_{pr_h_date.year}-{pr_h_date.month}-{pr_h_date.day}_{pr_h_date.hour}-{pr_h_date.minute}-{pr_h_date.second}'\n",
    "            if pr_h_currency == 'byn':\n",
    "                pr_h_usd_eq = int(round(pr_h_amount / curr_byn_usd, 0))\n",
    "            elif pr_h_currency == 'eur':\n",
    "                pr_h_usd_eq = int(round(pr_h_amount * curr_eur_usd, 0))\n",
    "            else:\n",
    "                pr_h_usd_eq = pr_h_amount\n",
    "            # пишем каждую строку а в конце коммит\n",
    "            print(f'для айди {id_value} - idu {pr_h_idu}. Цена на дату {pr_h_date} составила {pr_h_amount} {pr_h_currency}, в экв. {pr_h_usd_eq} usd')\n",
    "            # пишем\n",
    "            pr_h_query = \"\"\"\n",
    "            INSERT INTO av_price_history (id, id_av, date, amount, currency, usd_eq)\n",
    "            VALUES (%s, %s, %s, %s, %s, %s)\n",
    "            ON CONFLICT (id) DO NOTHING\n",
    "            \"\"\"\n",
    "            cursor.execute(pr_h_query, (pr_h_idu, id_value, pr_h_date, pr_h_amount, pr_h_currency, pr_h_usd_eq))\n",
    "            conn.commit()\n",
    "        return 1\n",
    "    else:\n",
    "        print(f\"Ошибка {pr_h_response.status_code}: {pr_h_response.text}\")\n",
    "        return 0\n"
   ]
  },
  {
   "cell_type": "code",
   "execution_count": null,
   "metadata": {},
   "outputs": [
    {
     "name": "stdout",
     "output_type": "stream",
     "text": [
      "для айди 115254501 - idu 115254501_2025-3-30. Цена на дату 2025-03-30 14:25:02 составила 11000 usd, в экв. 11000 usd\n",
      "для айди 115254501 - idu 115254501_2025-3-28. Цена на дату 2025-03-28 17:21:14 составила 8200 usd, в экв. 8200 usd\n",
      "для айди 115254501 - idu 115254501_2025-3-26. Цена на дату 2025-03-26 16:37:25 составила 8000 usd, в экв. 8000 usd\n",
      "для айди 115254501 - idu 115254501_2025-3-25. Цена на дату 2025-03-25 07:14:04 составила 8050 usd, в экв. 8050 usd\n",
      "для айди 115254501 - idu 115254501_2025-3-23. Цена на дату 2025-03-23 13:00:06 составила 8100 usd, в экв. 8100 usd\n",
      "для айди 115254501 - idu 115254501_2025-3-21. Цена на дату 2025-03-21 17:30:10 составила 8200 usd, в экв. 8200 usd\n"
     ]
    }
   ],
   "source": [
    "counter = get_price_history(id_value, curr_byn_usd, curr_eur_usd)"
   ]
  },
  {
   "cell_type": "code",
   "execution_count": null,
   "metadata": {},
   "outputs": [],
   "source": [
    "\n",
    "    return 1\n",
    "else:\n",
    "    print(f\"Ошибка {phone_response.status_code}: {phone_response.text}\")\n",
    "    return 0"
   ]
  },
  {
   "cell_type": "code",
   "execution_count": 8,
   "metadata": {},
   "outputs": [],
   "source": [
    "conn.close()"
   ]
  }
 ],
 "metadata": {
  "kernelspec": {
   "display_name": "Python 3",
   "language": "python",
   "name": "python3"
  },
  "language_info": {
   "codemirror_mode": {
    "name": "ipython",
    "version": 3
   },
   "file_extension": ".py",
   "mimetype": "text/x-python",
   "name": "python",
   "nbconvert_exporter": "python",
   "pygments_lexer": "ipython3",
   "version": "3.12.2"
  }
 },
 "nbformat": 4,
 "nbformat_minor": 2
}
