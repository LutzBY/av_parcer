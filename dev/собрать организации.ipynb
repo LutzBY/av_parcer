{
 "cells": [
  {
   "cell_type": "code",
   "execution_count": 19,
   "metadata": {},
   "outputs": [],
   "source": [
    "import requests\n",
    "from urllib.parse import urlencode\n",
    "from bs4 import BeautifulSoup\n",
    "import datetime\n",
    "from datetime import datetime\n",
    "import json\n",
    "from fuzzywuzzy import fuzz\n",
    "from fuzzywuzzy import process\n",
    "import psycopg2\n",
    "import smtplib\n",
    "from email.mime.text import MIMEText\n",
    "from email.utils import COMMASPACE\n",
    "from requests.exceptions import ChunkedEncodingError, RequestException\n",
    "import time"
   ]
  },
  {
   "cell_type": "code",
   "execution_count": 20,
   "metadata": {},
   "outputs": [],
   "source": [
    "# Чтение json конфига\n",
    "with open('config.json') as file:\n",
    "    config = json.load(file)\n",
    "\n",
    "mail_login = config['sender login']\n",
    "mail_password = config['sender password']\n",
    "pgre_login = config['postgre login']\n",
    "pgre_password = config['postgre password']\n",
    "pgre_host = config['postgre host']\n",
    "pgre_port = config['postgre port']\n",
    "pgre_db = config['postgre database']\n",
    "recipients = config['mail recipients']\n",
    "\n",
    "#Подключение к postgres\n",
    "conn = psycopg2.connect(\n",
    "    host = pgre_host,\n",
    "    port = pgre_port,\n",
    "    database = pgre_db,\n",
    "    user = pgre_login,\n",
    "    password = pgre_password\n",
    ")"
   ]
  },
  {
   "cell_type": "code",
   "execution_count": 21,
   "metadata": {},
   "outputs": [],
   "source": [
    "headers = {\n",
    "    'authority': 'moto.av.by',\n",
    "    'accept': 'text/html,application/xhtml+xml,application/xml;q=0.9,image/avif,image/webp,image/apng,*/*;q=0.8,application/signed-exchange;v=b3;q=0.7',\n",
    "    'accept-language': 'ru,en;q=0.9',\n",
    "    'cache-control': 'no-cache',\n",
    "    'pragma': 'no-cache',\n",
    "    'sec-ch-ua': '\"Not_A Brand\";v=\"8\", \"Chromium\";v=\"120\", \"YaBrowser\";v=\"24.1\", \"Yowser\";v=\"2.5\"',\n",
    "    'sec-ch-ua-mobile': '?0',\n",
    "    'sec-ch-ua-platform': '\"Windows\"',\n",
    "    'sec-fetch-dest': 'document',\n",
    "    'sec-fetch-mode': 'navigate',\n",
    "    'sec-fetch-site': 'same-origin',\n",
    "    'sec-fetch-user': '?1',\n",
    "    'upgrade-insecure-requests': '1',\n",
    "    'user-agent': 'Mozilla/5.0 (Windows NT 10.0; Win64; x64) AppleWebKit/537.36 (KHTML, like Gecko) Chrome/120.0.0.0 YaBrowser/24.1.0.0 Safari/537.36',\n",
    "}\n"
   ]
  },
  {
   "cell_type": "code",
   "execution_count": 22,
   "metadata": {},
   "outputs": [],
   "source": [
    "company_cursor = conn.cursor()"
   ]
  },
  {
   "cell_type": "code",
   "execution_count": 29,
   "metadata": {},
   "outputs": [
    {
     "name": "stdout",
     "output_type": "stream",
     "text": [
      "[3454878, 3578430]\n"
     ]
    }
   ],
   "source": [
    "# Проверка на новые юрлица\n",
    "select_query = \"\"\"\n",
    "select distinct(seller_id)\n",
    "from av_full af\n",
    "left join av_organizations ao\n",
    "on af.seller_id = ao.id\n",
    "where seller_id is not null\n",
    "and legal_name is null\n",
    "\"\"\"\n",
    "company_cursor.execute(select_query)\n",
    "\n",
    "new_companies = company_cursor.fetchall()\n",
    "if new_companies:\n",
    "    seller_id_list = [int(c[0]) for c in new_companies]\n",
    "    print(seller_id_list)\n",
    "    ##parse_new_organisations(seller_id_list)\n",
    "    ##new_companies_print = f'Найдено {len(new_companies)} новых юрлиц, записано {new_companies_written}'\n",
    "else:\n",
    "    new_companies_print = 'Нет новых юрлиц'"
   ]
  },
  {
   "cell_type": "code",
   "execution_count": 24,
   "metadata": {},
   "outputs": [
    {
     "data": {
      "text/plain": [
       "[3578430]"
      ]
     },
     "execution_count": 24,
     "metadata": {},
     "output_type": "execute_result"
    }
   ],
   "source": [
    "seller_id_list"
   ]
  },
  {
   "cell_type": "code",
   "execution_count": 33,
   "metadata": {},
   "outputs": [],
   "source": [
    "new_companies_written = 0"
   ]
  },
  {
   "cell_type": "code",
   "execution_count": null,
   "metadata": {},
   "outputs": [],
   "source": [
    "def parse_new_organisations(seller_id_list):\n",
    "    print (f'Ищем организации с id - {seller_id_list}')\n",
    "    try:\n",
    "        for id in seller_id_list:\n",
    "            org_url = f\"https://api.av.by/organizations/{id}\"\n",
    "            org_response = requests.get(org_url, headers=headers)\n",
    "            \n",
    "            # Проверка успешности\n",
    "            if org_response.status_code == 200:\n",
    "                item = org_response.json()  # Получаем джсон\n",
    "                o_phone = []\n",
    "                for i in item['infoPhones']:\n",
    "                    o_phone.append(f'+{i['phone']['country']['code']}{i['phone']['number']}')  #375291112121\n",
    "\n",
    "                o_creation = item['infoPhones'][0]['createdAt']\n",
    "                o_creation = datetime.strptime(o_creation, '%Y-%m-%dT%H:%M:%S%z') # Преобразования текстового значения в дату\n",
    "                o_creation = o_creation.replace(tzinfo=None) # убираем таймзон\n",
    "\n",
    "                o_region = item['region']['label'] # Минская область\n",
    "                o_city = item['city']['locationName'] # Минск\n",
    "                o_legal_address = item['legalAddress'] # г. Минск, Долгиновский тракт, 186\n",
    "                o_legal_address = o_legal_address.replace(\"'\", \".\")\n",
    "                o_id = id\n",
    "                o_title = item['title'] # ООО «ДрайвМоторс»\n",
    "                o_title = o_title.replace(\"'\", \".\")\n",
    "                o_legal_name = item['legalName'] # ООО «ДрайвМоторс»\n",
    "                o_legal_name = o_legal_name.replace(\"'\", \".\")\n",
    "                o_unp = item['unp'] # 191111259\n",
    "                o_url = item.get('siteUrl', None)\n",
    "                print(o_title, o_phone)\n",
    "                # Кверя\n",
    "                parsequery = \"\"\"\n",
    "                    INSERT INTO av_organizations(id, date_created, title, legal_name, unp_num, phone, region, city, legal_address, url)\n",
    "                    VALUES (%s, %s, %s, %s, %s, %s, %s, %s, %s, %s)\n",
    "                    ON CONFLICT (id) DO NOTHING\n",
    "                \"\"\"\n",
    "                # Работа курсора для пгри\n",
    "                company_cursor.execute(parsequery, (o_id, o_creation, o_title, o_legal_name, o_unp, o_phone, o_region, o_city, o_legal_address, o_url))\n",
    "                conn.commit()\n",
    "                print(f'{o_id} записан')\n",
    "                new_companies_written += 1\n",
    "    # Если страница открылась но она с домиком 404\n",
    "    except (KeyError, json.JSONDecodeError, TypeError):\n",
    "        print('Произошла ошибка открытия страницы')"
   ]
  },
  {
   "cell_type": "code",
   "execution_count": 5,
   "metadata": {},
   "outputs": [
    {
     "ename": "KeyboardInterrupt",
     "evalue": "",
     "output_type": "error",
     "traceback": [
      "\u001b[1;31m---------------------------------------------------------------------------\u001b[0m",
      "\u001b[1;31mKeyboardInterrupt\u001b[0m                         Traceback (most recent call last)",
      "Cell \u001b[1;32mIn[5], line 6\u001b[0m\n\u001b[0;32m      3\u001b[0m url_cycle \u001b[38;5;241m=\u001b[39m \u001b[38;5;124mf\u001b[39m\u001b[38;5;124m'\u001b[39m\u001b[38;5;124mhttps://av.by/company/transport?page=\u001b[39m\u001b[38;5;132;01m{\u001b[39;00mpage\u001b[38;5;132;01m}\u001b[39;00m\u001b[38;5;124m'\u001b[39m\n\u001b[0;32m      5\u001b[0m \u001b[38;5;66;03m# Подключение\u001b[39;00m\n\u001b[1;32m----> 6\u001b[0m response \u001b[38;5;241m=\u001b[39m \u001b[43mrequests\u001b[49m\u001b[38;5;241m.\u001b[39mget(url_cycle, headers\u001b[38;5;241m=\u001b[39mheaders)\n\u001b[0;32m      7\u001b[0m src \u001b[38;5;241m=\u001b[39m response\u001b[38;5;241m.\u001b[39mtext\n\u001b[0;32m      8\u001b[0m soup \u001b[38;5;241m=\u001b[39m BeautifulSoup(src, \u001b[38;5;124m'\u001b[39m\u001b[38;5;124mlxml\u001b[39m\u001b[38;5;124m'\u001b[39m)\n",
      "File \u001b[1;32m~\\AppData\\Roaming\\Python\\Python312\\site-packages\\debugpy\\_vendored\\pydevd\\_pydevd_bundle\\pydevd_frame.py:1197\u001b[0m, in \u001b[0;36mPyDBFrame.trace_dispatch\u001b[1;34m(self, frame, event, arg)\u001b[0m\n\u001b[0;32m   1195\u001b[0m \u001b[38;5;28;01mif\u001b[39;00m is_line:\n\u001b[0;32m   1196\u001b[0m     \u001b[38;5;28mself\u001b[39m\u001b[38;5;241m.\u001b[39mset_suspend(thread, step_cmd, original_step_cmd\u001b[38;5;241m=\u001b[39minfo\u001b[38;5;241m.\u001b[39mpydev_original_step_cmd)\n\u001b[1;32m-> 1197\u001b[0m     \u001b[38;5;28;43mself\u001b[39;49m\u001b[38;5;241;43m.\u001b[39;49m\u001b[43mdo_wait_suspend\u001b[49m\u001b[43m(\u001b[49m\u001b[43mthread\u001b[49m\u001b[43m,\u001b[49m\u001b[43m \u001b[49m\u001b[43mframe\u001b[49m\u001b[43m,\u001b[49m\u001b[43m \u001b[49m\u001b[43mevent\u001b[49m\u001b[43m,\u001b[49m\u001b[43m \u001b[49m\u001b[43marg\u001b[49m\u001b[43m)\u001b[49m\n\u001b[0;32m   1198\u001b[0m \u001b[38;5;28;01melif\u001b[39;00m is_return:  \u001b[38;5;66;03m# return event\u001b[39;00m\n\u001b[0;32m   1199\u001b[0m     back \u001b[38;5;241m=\u001b[39m frame\u001b[38;5;241m.\u001b[39mf_back\n",
      "File \u001b[1;32m~\\AppData\\Roaming\\Python\\Python312\\site-packages\\debugpy\\_vendored\\pydevd\\_pydevd_bundle\\pydevd_frame.py:165\u001b[0m, in \u001b[0;36mPyDBFrame.do_wait_suspend\u001b[1;34m(self, *args, **kwargs)\u001b[0m\n\u001b[0;32m    164\u001b[0m \u001b[38;5;28;01mdef\u001b[39;00m \u001b[38;5;21mdo_wait_suspend\u001b[39m(\u001b[38;5;28mself\u001b[39m, \u001b[38;5;241m*\u001b[39margs, \u001b[38;5;241m*\u001b[39m\u001b[38;5;241m*\u001b[39mkwargs):\n\u001b[1;32m--> 165\u001b[0m     \u001b[38;5;28;43mself\u001b[39;49m\u001b[38;5;241;43m.\u001b[39;49m\u001b[43m_args\u001b[49m\u001b[43m[\u001b[49m\u001b[38;5;241;43m0\u001b[39;49m\u001b[43m]\u001b[49m\u001b[38;5;241;43m.\u001b[39;49m\u001b[43mdo_wait_suspend\u001b[49m\u001b[43m(\u001b[49m\u001b[38;5;241;43m*\u001b[39;49m\u001b[43margs\u001b[49m\u001b[43m,\u001b[49m\u001b[43m \u001b[49m\u001b[38;5;241;43m*\u001b[39;49m\u001b[38;5;241;43m*\u001b[39;49m\u001b[43mkwargs\u001b[49m\u001b[43m)\u001b[49m\n",
      "File \u001b[1;32m~\\AppData\\Roaming\\Python\\Python312\\site-packages\\debugpy\\_vendored\\pydevd\\pydevd.py:2070\u001b[0m, in \u001b[0;36mPyDB.do_wait_suspend\u001b[1;34m(self, thread, frame, event, arg, exception_type)\u001b[0m\n\u001b[0;32m   2067\u001b[0m             from_this_thread\u001b[38;5;241m.\u001b[39mappend(frame_custom_thread_id)\n\u001b[0;32m   2069\u001b[0m     \u001b[38;5;28;01mwith\u001b[39;00m \u001b[38;5;28mself\u001b[39m\u001b[38;5;241m.\u001b[39m_threads_suspended_single_notification\u001b[38;5;241m.\u001b[39mnotify_thread_suspended(thread_id, thread, stop_reason):\n\u001b[1;32m-> 2070\u001b[0m         keep_suspended \u001b[38;5;241m=\u001b[39m \u001b[38;5;28;43mself\u001b[39;49m\u001b[38;5;241;43m.\u001b[39;49m\u001b[43m_do_wait_suspend\u001b[49m\u001b[43m(\u001b[49m\u001b[43mthread\u001b[49m\u001b[43m,\u001b[49m\u001b[43m \u001b[49m\u001b[43mframe\u001b[49m\u001b[43m,\u001b[49m\u001b[43m \u001b[49m\u001b[43mevent\u001b[49m\u001b[43m,\u001b[49m\u001b[43m \u001b[49m\u001b[43marg\u001b[49m\u001b[43m,\u001b[49m\u001b[43m \u001b[49m\u001b[43msuspend_type\u001b[49m\u001b[43m,\u001b[49m\u001b[43m \u001b[49m\u001b[43mfrom_this_thread\u001b[49m\u001b[43m,\u001b[49m\u001b[43m \u001b[49m\u001b[43mframes_tracker\u001b[49m\u001b[43m)\u001b[49m\n\u001b[0;32m   2072\u001b[0m frames_list \u001b[38;5;241m=\u001b[39m \u001b[38;5;28;01mNone\u001b[39;00m\n\u001b[0;32m   2074\u001b[0m \u001b[38;5;28;01mif\u001b[39;00m keep_suspended:\n\u001b[0;32m   2075\u001b[0m     \u001b[38;5;66;03m# This means that we should pause again after a set next statement.\u001b[39;00m\n",
      "File \u001b[1;32m~\\AppData\\Roaming\\Python\\Python312\\site-packages\\debugpy\\_vendored\\pydevd\\pydevd.py:2106\u001b[0m, in \u001b[0;36mPyDB._do_wait_suspend\u001b[1;34m(self, thread, frame, event, arg, suspend_type, from_this_thread, frames_tracker)\u001b[0m\n\u001b[0;32m   2103\u001b[0m         \u001b[38;5;28mself\u001b[39m\u001b[38;5;241m.\u001b[39m_call_input_hook()\n\u001b[0;32m   2105\u001b[0m     \u001b[38;5;28mself\u001b[39m\u001b[38;5;241m.\u001b[39mprocess_internal_commands()\n\u001b[1;32m-> 2106\u001b[0m     \u001b[43mtime\u001b[49m\u001b[38;5;241;43m.\u001b[39;49m\u001b[43msleep\u001b[49m\u001b[43m(\u001b[49m\u001b[38;5;241;43m0.01\u001b[39;49m\u001b[43m)\u001b[49m\n\u001b[0;32m   2108\u001b[0m \u001b[38;5;28mself\u001b[39m\u001b[38;5;241m.\u001b[39mcancel_async_evaluation(get_current_thread_id(thread), \u001b[38;5;28mstr\u001b[39m(\u001b[38;5;28mid\u001b[39m(frame)))\n\u001b[0;32m   2110\u001b[0m \u001b[38;5;66;03m# process any stepping instructions\u001b[39;00m\n",
      "\u001b[1;31mKeyboardInterrupt\u001b[0m: "
     ]
    }
   ],
   "source": [
    "try:\n",
    "    for page in range(1, 30):\n",
    "        url_cycle = f'https://av.by/company/transport?page={page}'\n",
    "\n",
    "        # Подключение\n",
    "        response = requests.get(url_cycle, headers=headers)\n",
    "        src = response.text\n",
    "        soup = BeautifulSoup(src, 'lxml')\n",
    "        script_element = soup.find(\"script\", id=\"__NEXT_DATA__\") #Достаем жсон\n",
    "        json_string = script_element.string #Конвертируем жсон в стринг\n",
    "        data = json.loads(json_string) #Пакуем в data\n",
    "\n",
    "        # наполнение айдишек\n",
    "        ids = []\n",
    "        for items in data['props']['initialState']['organizationList']['data']['items']:\n",
    "            ids.append(items['id'])\n",
    "\n",
    "        for id in ids:\n",
    "            org_url = f\"https://api.av.by/organizations/{id}\"\n",
    "            org_response = requests.get(org_url, headers=headers)\n",
    "            \n",
    "            # Проверка успешности\n",
    "            if org_response.status_code == 200:\n",
    "                item = org_response.json()  # Получаем джсон\n",
    "                o_phone = []\n",
    "                for i in item['infoPhones']:\n",
    "                    o_phone.append(f'+{i['phone']['country']['code']}{i['phone']['number']}')  #375291112121\n",
    "\n",
    "                o_creation = item['infoPhones'][0]['createdAt']\n",
    "                o_creation = datetime.strptime(o_creation, '%Y-%m-%dT%H:%M:%S%z') # Преобразования текстового значения в дату\n",
    "                o_creation = o_creation.replace(tzinfo=None) # убираем таймзон\n",
    "\n",
    "                o_region = item['region']['label'] # Минская область\n",
    "                o_city = item['city']['locationName'] # Минск\n",
    "                o_legal_address = item['legalAddress'] # г. Минск, Долгиновский тракт, 186\n",
    "                o_legal_address = o_legal_address.replace(\"'\", \".\")\n",
    "                o_id = id\n",
    "                o_title = item['title'] # ООО «ДрайвМоторс»\n",
    "                o_title = o_title.replace(\"'\", \".\")\n",
    "                o_legal_name = item['legalName'] # ООО «ДрайвМоторс»\n",
    "                o_legal_name = o_legal_name.replace(\"'\", \".\")\n",
    "                o_unp = item['unp'] # 191111259\n",
    "                o_url = item.get('siteUrl', None)\n",
    "                print(o_title, o_phone)\n",
    "                # Кверя\n",
    "                parsequery = \"\"\"\n",
    "                    INSERT INTO av_organizations(id, date_created, title, legal_name, unp_num, phone, region, city, legal_address, url)\n",
    "                    VALUES (%s, '%s', '%s', '%s', %s, %s, '%s', '%s', '%s', '%s')\n",
    "                    ON CONFLICT (id) DO NOTHING\n",
    "                \"\"\"\n",
    "                # Работа курсора для пгри\n",
    "                company_cursor.execute(parsequery, (o_id, o_creation, o_title, o_legal_name, o_unp, o_phone, o_region, o_city, o_legal_address, o_url))\n",
    "                conn.commit()\n",
    "                print(f'{o_id} записан')\n",
    "# Если страница открылась но она с домиком 404\n",
    "except (KeyError, json.JSONDecodeError, TypeError):\n",
    "    print('Произошла ошибка открытия страницы')"
   ]
  },
  {
   "cell_type": "code",
   "execution_count": 39,
   "metadata": {},
   "outputs": [
    {
     "name": "stdout",
     "output_type": "stream",
     "text": [
      "Ищем организации с id - [3454878, 3578430]\n",
      "ИП Сапун Игорь Сергеевич ['+375445454386']\n",
      "3454878 записан\n",
      "ООО «Ю-Моторс Авто Драйв» ['+375293599274']\n",
      "3578430 записан\n"
     ]
    }
   ],
   "source": [
    "parse_new_organisations(seller_id_list)"
   ]
  },
  {
   "cell_type": "code",
   "execution_count": null,
   "metadata": {},
   "outputs": [],
   "source": [
    "conn.close()"
   ]
  }
 ],
 "metadata": {
  "kernelspec": {
   "display_name": "Python 3",
   "language": "python",
   "name": "python3"
  },
  "language_info": {
   "codemirror_mode": {
    "name": "ipython",
    "version": 3
   },
   "file_extension": ".py",
   "mimetype": "text/x-python",
   "name": "python",
   "nbconvert_exporter": "python",
   "pygments_lexer": "ipython3",
   "version": "3.12.2"
  }
 },
 "nbformat": 4,
 "nbformat_minor": 2
}
