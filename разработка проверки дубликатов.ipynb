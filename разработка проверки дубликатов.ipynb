{
 "cells": [
  {
   "cell_type": "code",
   "execution_count": 60,
   "metadata": {},
   "outputs": [
    {
     "name": "stdout",
     "output_type": "stream",
     "text": [
      "Привет! Текущая дата - 2024-10-25 15:21:05\n"
     ]
    }
   ],
   "source": [
    "import requests\n",
    "from urllib.parse import urlencode\n",
    "from bs4 import BeautifulSoup\n",
    "import datetime\n",
    "from datetime import datetime\n",
    "import time\n",
    "import json\n",
    "import requests\n",
    "from requests.exceptions import SSLError\n",
    "import psycopg2\n",
    "import random\n",
    "import csv\n",
    "from email.mime.text import MIMEText\n",
    "from email.utils import COMMASPACE\n",
    "import smtplib\n",
    "\n",
    "headers = {\n",
    "    'authority': 'moto.av.by',\n",
    "    'accept': 'text/html,application/xhtml+xml,application/xml;q=0.9,image/avif,image/webp,image/apng,*/*;q=0.8,application/signed-exchange;v=b3;q=0.7',\n",
    "    'accept-language': 'ru,en;q=0.9',\n",
    "    'cache-control': 'no-cache',\n",
    "    'pragma': 'no-cache',\n",
    "    'sec-ch-ua': '\"Not_A Brand\";v=\"8\", \"Chromium\";v=\"120\", \"YaBrowser\";v=\"24.1\", \"Yowser\";v=\"2.5\"',\n",
    "    'sec-ch-ua-mobile': '?0',\n",
    "    'sec-ch-ua-platform': '\"Windows\"',\n",
    "    'sec-fetch-dest': 'document',\n",
    "    'sec-fetch-mode': 'navigate',\n",
    "    'sec-fetch-site': 'same-origin',\n",
    "    'sec-fetch-user': '?1',\n",
    "    'upgrade-insecure-requests': '1',\n",
    "    'user-agent': 'Mozilla/5.0 (Windows NT 10.0; Win64; x64) AppleWebKit/537.36 (KHTML, like Gecko) Chrome/120.0.0.0 YaBrowser/24.1.0.0 Safari/537.36',\n",
    "}\n",
    "\n",
    "# Чтение json конфига\n",
    "with open('config.json') as file:\n",
    "    config = json.load(file)\n",
    "\n",
    "mail_login = config['sender login']\n",
    "mail_password = config['sender password']\n",
    "pgre_login = config['postgre login']\n",
    "pgre_password = config['postgre password']\n",
    "pgre_host = config['postgre host']\n",
    "pgre_port = config['postgre port']\n",
    "pgre_db = config['postgre database']\n",
    "recipients = config['mail recipients']\n",
    "\n",
    "#Подключение к postgres\n",
    "conn = psycopg2.connect(\n",
    "    host = pgre_host,\n",
    "    port = pgre_port,\n",
    "    database = pgre_db,\n",
    "    user = pgre_login,\n",
    "    password = pgre_password\n",
    ")\n",
    "\n",
    "\n",
    "current_time_start = datetime.now()\n",
    "ctsf = current_time_start.strftime(\"%Y-%m-%d %H:%M:%S\")\n",
    "print(f\"Привет! Текущая дата - {ctsf}\")"
   ]
  },
  {
   "cell_type": "code",
   "execution_count": 61,
   "metadata": {},
   "outputs": [],
   "source": [
    "cursor = conn.cursor()"
   ]
  },
  {
   "cell_type": "code",
   "execution_count": 3,
   "metadata": {},
   "outputs": [],
   "source": [
    "id_value = 112262325 # хач бмв 112262309 #эндурик 110511290"
   ]
  },
  {
   "cell_type": "code",
   "execution_count": 4,
   "metadata": {},
   "outputs": [],
   "source": [
    "# Ищем дубликат по id_value, список не будет содержать строку искомого айди\n",
    "select_query = \"\"\"SELECT id, date, price, model_vlk, brand, model, model_misc, year, type, cylinders, capacity, mileage, exclude_flag, url\n",
    "FROM public.av_full\n",
    "WHERE (brand, model, model_misc, year, type, cylinders, capacity, mileage, seller, locations) = \n",
    "(\n",
    "    SELECT brand, model, model_misc, year, type, cylinders, capacity, mileage, seller, locations\n",
    "    FROM public.av_full\n",
    "    WHERE id = %d\n",
    ")\n",
    "AND id != %d\n",
    "ORDER BY date ASC;\"\"\" % (id_value, id_value)\n",
    "cursor.execute(select_query)\n",
    "rows = cursor.fetchall()\n"
   ]
  },
  {
   "cell_type": "code",
   "execution_count": 5,
   "metadata": {},
   "outputs": [
    {
     "name": "stdout",
     "output_type": "stream",
     "text": [
      "id - 111343735, дата - 2024-10-08 12:39:48\n",
      "дата - 2024-10-08 12:39:48\n"
     ]
    }
   ],
   "source": [
    "if rows:\n",
    "    dupl_id_list = []\n",
    "    dupl_date_list = []\n",
    "    for n in rows:    \n",
    "        dupl_dates = n[1]\n",
    "        dupl_date_list.append(dupl_dates)\n",
    "        dupl_id = n[0]\n",
    "        dupl_id_list.append(dupl_id)\n",
    "        print(f\"id - {dupl_id}, дата - {dupl_dates}\")\n",
    "\n",
    "    dupl_date = min(dupl_date_list)\n",
    "    \n",
    "    print(f\"дата - {dupl_date}\")\n",
    "else:\n",
    "    print('нетути')\n",
    "\n",
    "# в итоге у нас получатся что dupl_id_list содержит все дубликаты для id_value. dupl_date_list содержит список дат, а dupl_date самую раннюю"
   ]
  },
  {
   "cell_type": "code",
   "execution_count": 6,
   "metadata": {},
   "outputs": [],
   "source": [
    "dupl_id_list = ', '.join(str(int(d)) for d in dupl_id_list)"
   ]
  },
  {
   "cell_type": "code",
   "execution_count": 7,
   "metadata": {},
   "outputs": [],
   "source": [
    "# писать кандишн - Дубликат в список айди и писать новую дату в id_value \n",
    "\n",
    "\n",
    "# выставить флажок дубликата\n",
    "query1 = \"\"\"UPDATE public.av_full\n",
    "SET duplicate_flag = True\n",
    "where id in (%s);\"\"\" % (dupl_id_list)\n",
    "cursor.execute(query1)\n",
    "\n",
    "# выставить новую дату\n",
    "query2 = \"\"\"UPDATE public.av_full\n",
    "SET date = '%s'\n",
    "where id = %i;\"\"\" % (dupl_date, id_value)\n",
    "cursor.execute(query2)\n"
   ]
  },
  {
   "cell_type": "code",
   "execution_count": 22,
   "metadata": {},
   "outputs": [],
   "source": [
    "conn.commit()\n",
    "#conn.close()"
   ]
  },
  {
   "cell_type": "code",
   "execution_count": null,
   "metadata": {},
   "outputs": [],
   "source": [
    "#он по идее должен вернуть массивчик если есть дубли или нул если дублей нет\n",
    "#если дубли есть то взять самую старую дату и заменить у искомого айди, а все в списке пометить флажочком\n",
    "#строка 180 в актчек"
   ]
  },
  {
   "cell_type": "code",
   "execution_count": 107,
   "metadata": {},
   "outputs": [],
   "source": [
    "\n",
    "def check_for_duplicates (id_value):\n",
    "    # Ищем дубликат по id_value, список не будет содержать строку искомого айди\n",
    "    select_query = \"\"\"SELECT id, date, price, model_vlk, brand, model, model_misc, year, type, cylinders, capacity, mileage, exclude_flag, url\n",
    "    FROM public.av_full\n",
    "    WHERE (brand, model, model_misc, year, type, cylinders, capacity, mileage, seller, locations) = \n",
    "    (\n",
    "        SELECT brand, model, model_misc, year, type, cylinders, capacity, mileage, seller, locations\n",
    "        FROM public.av_full\n",
    "        WHERE id = %d\n",
    "    )\n",
    "    AND id != %d\n",
    "    ORDER BY date ASC;\"\"\" % (id_value, id_value)\n",
    "    cursor.execute(select_query)\n",
    "    rows = cursor.fetchall()\n",
    "    dupl_count = 0 # счетчик количества объяв-дубликатов\n",
    "\n",
    "    if rows:\n",
    "        dupl_id_list = []\n",
    "        dupl_date_list = []\n",
    "    \n",
    "        for n in rows:    \n",
    "            dupl_dates = n[1]\n",
    "            dupl_date_list.append(dupl_dates)\n",
    "            dupl_id = n[0]\n",
    "            dupl_id_list.append(dupl_id)\n",
    "            #print(f\"id - {dupl_id}, дата - {dupl_dates}\")\n",
    "            dupl_count += 1\n",
    "\n",
    "        dupl_date = min(dupl_date_list)\n",
    "        \n",
    "        print(f\"Найдено {dupl_count} дубликатов для id:{id_value} с самой ранней датой - {dupl_date}\")\n",
    "\n",
    "        # отформатировать список для вставки в квери\n",
    "        dupl_id_list = ', '.join(str(int(d)) for d in dupl_id_list)\n",
    "\n",
    "        # квери выставить флажок дубликата\n",
    "        query1 = \"\"\"UPDATE public.av_full\n",
    "        SET duplicate_flag = True, duplicate_id = %d\n",
    "        WHERE id in (%s);\"\"\" % (id_value, dupl_id_list)\n",
    "        cursor.execute(query1)\n",
    "\n",
    "        # квери выставить новую дату\n",
    "        query2 = \"\"\"UPDATE public.av_full\n",
    "        SET date = '%s'\n",
    "        WHERE id = %d;\"\"\" % (dupl_date, id_value)\n",
    "        cursor.execute(query2)\n",
    "        \n",
    "        # записать изменения\n",
    "        ##############################################################################################conn.commit()\n",
    "        return 1\n",
    "    else:\n",
    "        print(f'Дубликатов для id:{id_value} не обнаружено')\n",
    "        return 0\n",
    "    \n"
   ]
  },
  {
   "cell_type": "code",
   "execution_count": 108,
   "metadata": {},
   "outputs": [],
   "source": [
    "duplicates_global_count = 0"
   ]
  },
  {
   "cell_type": "code",
   "execution_count": 117,
   "metadata": {},
   "outputs": [],
   "source": [
    "id_value = 112262325 #112262325 # хач бмв 112262309 #эндурик 110511290\n",
    "seller = 'Василий' #\"Продажа мотоциклов и прицеп дач Вязынка\"\n",
    "capacity = 1000\n",
    "cylcount = 4\n",
    "brand = 'Kawasaki'\n",
    "duplicate_flag = False #!!!! доставать его из базы\n"
   ]
  },
  {
   "cell_type": "code",
   "execution_count": 118,
   "metadata": {},
   "outputs": [
    {
     "name": "stdout",
     "output_type": "stream",
     "text": [
      "Найдено 1 дубликатов для id:112262325 с самой ранней датой - 2024-10-08 12:39:48\n"
     ]
    }
   ],
   "source": [
    "if seller != 'Продажа мотоциклов и прицеп дач Вязынка' and int(capacity) >= 299 and cylcount > 1 and brand not in ('Днепр', 'Jawa', 'ИЖ', 'Эксклюзив', 'Racer', 'Урал', 'Cezet') and duplicate_flag is False:\n",
    "    duplicates_global_count += check_for_duplicates (id_value)    \n",
    "else:\n",
    "    print(f'Проверка дубликатов для id:{id_value} не проводится')"
   ]
  },
  {
   "cell_type": "code",
   "execution_count": 119,
   "metadata": {},
   "outputs": [
    {
     "data": {
      "text/plain": [
       "2"
      ]
     },
     "execution_count": 119,
     "metadata": {},
     "output_type": "execute_result"
    }
   ],
   "source": [
    "duplicates_global_count"
   ]
  },
  {
   "cell_type": "code",
   "execution_count": null,
   "metadata": {},
   "outputs": [],
   "source": []
  }
 ],
 "metadata": {
  "kernelspec": {
   "display_name": "Python 3",
   "language": "python",
   "name": "python3"
  },
  "language_info": {
   "codemirror_mode": {
    "name": "ipython",
    "version": 3
   },
   "file_extension": ".py",
   "mimetype": "text/x-python",
   "name": "python",
   "nbconvert_exporter": "python",
   "pygments_lexer": "ipython3",
   "version": "3.12.2"
  }
 },
 "nbformat": 4,
 "nbformat_minor": 2
}
